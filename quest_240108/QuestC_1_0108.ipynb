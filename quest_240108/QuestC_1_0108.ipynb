{
 "cells": [
  {
   "cell_type": "code",
   "execution_count": 18,
   "metadata": {
    "id": "gTnp4fQgn8b3"
   },
   "outputs": [],
   "source": [
    "import random\n",
    "import time"
   ]
  },
  {
   "cell_type": "code",
   "execution_count": null,
   "metadata": {
    "id": "xCoDrtnNsucG"
   },
   "outputs": [],
   "source": [
    "# 1. Account 클래스 :\n",
    "# - 은행에 가서 계좌를 개설하면 은행이름, 예금주, 계좌번호, 잔액이 설정됩니다. Account 클래스를 생성한 후 init_ 메서드를 구현해보세요.\n",
    "# -_init_메서드에서는 예금주와 초기 잔액만 입력 받습니다.\n",
    "# - 은행이름은 SC은행으로 계좌번호는 3자리-2자리-6자리 형태로 랜덤하게 생성됩니다.\n",
    "# (은행이름: sc은행, 계좌번호: 111-11-111111)\n",
    "# 2. 입금 메서드 : Account 클래스에 입금을 위한 deposit 메서드를 추가하세요. 입금은 최소 1원 이상만 가능합니다.\n",
    "# 3. 출금 메서드 : Account 클래스에 출금을 위한 withdraw 메서드를 추가하세요. 출금은 계좌의 잔고 이상으로 출금할 수는 없습니다.\n",
    "# 4. 정보 출력 메서드 : Account 인스턴스에 저장된 정보를 출력하는 display_info() 메서드를 추가하세요. 잔고는 세자리마다 쉼표를 출력하세요.\n",
    "# (예시- 은행이름: SC은행,예금주: 파이썬, 계좌번호: 111-11-111111, 잔고: 10,000원)\n",
    "# 5. 이자 지급하기 입금 횟수가 5회가 될 때 잔고를 기준으로 1%의 이자가 잔고에 추가되도록 코드를 추가해보세요.\n",
    "# 6. 입금 내역과 출금 내역을 출력하는 deposit_history와 withdraw_history 메서드를 추가하세요. (입금 시간과 출력 시간을 기록해주세요.)\n",
    "# 7. 입금 내역과 출금 내역을 함께 출력하는 alLhistory 메서드를 추가하세요"
   ]
  },
  {
   "cell_type": "code",
   "execution_count": 19,
   "metadata": {
    "id": "Z1puBKtwqmTx"
   },
   "outputs": [],
   "source": [
    "class Account:\n",
    "\n",
    "  # 1. Account 클래스\n",
    "  def __init__(self, owner, balance): # -_init_메서드에서는 예금주와 초기 잔액만 입력 받습니다.\n",
    "    # 계좌번호는 3자리-2자리-6자리 형태로 랜덤하게 생성\n",
    "    self.account_number = f\"{random.randint(100,999)}-{random.randint(10,99)}-{random.randint(100000,999999)}\"\n",
    "    self.balance = balance  # 잔액\n",
    "    self.owner = owner  # 예금주\n",
    "    self.deposit_history_list=[]  # 입금 내역 저장\n",
    "    self.withdraw_history_list=[]   # 출금 내역 저장\n",
    "    self.deposit_count = 0  # 이자 지급을 위한 입금 횟수 기록\n",
    "    self.bank_name = \"SC은행\"   # - 은행이름은 SC은행\n",
    "\n",
    "  # 금액에 세자리마다 쉼표를 추가하는 메서드\n",
    "  def money_format(self, money):\n",
    "    return format(money, \",\")\n",
    "\n",
    "  # 2. 입금 메서드 : Account 클래스에 입금을 위한 deposit 메서드\n",
    "  def deposit(self, amount):\n",
    "    if amount >= 1:   # 입금은 최소 1원 이상만 가능\n",
    "      self.balance = self.balance + amount\n",
    "      self.deposit_history_list.append((time.strftime('%Y-%m-%d %H:%M:%S'), amount))  # 입금 시간과 입금액 저장\n",
    "      self.deposit_count += 1\n",
    "      print(f\"{self.money_format(amount)}원 입금 되었습니다.\")\n",
    "\n",
    "      # 5. 이자 지급하기 입금 횟수가 5회가 될 때 잔고를 기준으로 1%의 이자가 잔고에 추가\n",
    "      if self.deposit_count % 5 == 0:\n",
    "        interest = self.balance * 0.01\n",
    "        self.balance = self.balance + interest\n",
    "        print(f\"{self.money_format(interest)}원 이자가 입금되었습니다.\")\n",
    "\n",
    "    else:\n",
    "      print(\"1원 이상만 입금이 가능합니다.\") # 입금액이 1원 미만일 때 출력\n",
    "\n",
    "  # 3. 출금 메서드 : Account 클래스에 출금을 위한 withdraw 메서드\n",
    "  def withraw(self, amount):\n",
    "    if amount <= self.balance:    # 출금은 계좌의 잔고 이상으로 출금할 수는 없습니다.\n",
    "      self.balance = self.balance - amount\n",
    "      self.withdraw_history_list.append((time.strftime('%Y-%m-%d %H:%M:%S'), amount)) # 출금 시간과 출금액 저장\n",
    "      print(f\"{amount}원 출금 되었습니다.\")\n",
    "\n",
    "    else:\n",
    "      print(\"잔액이 부족합니다\")    # 잔고 이상으로 출금하려고 할 때 출력\n",
    "\n",
    "  # 4. 정보 출력 메서드 : Account 인스턴스에 저장된 정보를 출력하는 display_info() 메서드\n",
    "  def display_info(self):\n",
    "    # (예시- 은행이름: SC은행,예금주: 파이썬, 계좌번호: 111-11-111111, 잔고: 10,000원)\n",
    "    print(f\"은행이름: {self.bank_name}, 예금주: {self.owner}, 계좌번호: {self.account_number}, 잔고: {self.money_format(self.balance)}원\")\n",
    "\n",
    "\n",
    "  # 6. 입금 내역과 출금 내역을 출력하는 deposit_history와 withdraw_history 메서드\n",
    "  def deposit_history(self):\n",
    "    for deposit in self.deposit_history_list:\n",
    "      print(f\"입금시간: {deposit[0]}, 입금액:{self.money_format(deposit[1])}원\")\n",
    "   # 오류 해결 : deposit_history 메서드와 기록하는 deposit_history_list 리스트의 이름을 처음에 똑같이 설정하여 오류 발생. 토의를 통해 해결\n",
    "\n",
    "  def withdraw_history(self):\n",
    "    for withdraw in self.withdraw_history_list:\n",
    "      print(f\"출금시간: {withdraw[0]}, 출금액:{self.money_format(withdraw[1])}원\")\n",
    "\n",
    "  # 7. 입금 내역과 출금 내역을 함께 출력하는 alㅣ_history 메서드\n",
    "  def all_history(self):\n",
    "    print(\"전체내역:\")\n",
    "    self.deposit_history()\n",
    "    self.withdraw_history()"
   ]
  },
  {
   "cell_type": "code",
   "execution_count": 20,
   "metadata": {
    "id": "xDFoKoWT3uE2"
   },
   "outputs": [],
   "source": [
    "# 테스트\n",
    "account = Account(\"이영우\", 4400)"
   ]
  },
  {
   "cell_type": "code",
   "execution_count": 21,
   "metadata": {
    "colab": {
     "base_uri": "https://localhost:8080/"
    },
    "id": "592fDuSi4wwb",
    "outputId": "94adf4ba-ffc3-4ec2-a47c-d6e8638181e3"
   },
   "outputs": [
    {
     "name": "stdout",
     "output_type": "stream",
     "text": [
      "은행이름: SC은행, 예금주: 이영우, 계좌번호: 295-46-293732, 잔고: 4,400원\n"
     ]
    }
   ],
   "source": [
    "account.display_info()"
   ]
  },
  {
   "cell_type": "code",
   "execution_count": 22,
   "metadata": {
    "colab": {
     "base_uri": "https://localhost:8080/"
    },
    "id": "dK95_D2F9TzR",
    "outputId": "f4eef655-c10e-4b6b-a1e4-aed3c2d707be"
   },
   "outputs": [
    {
     "name": "stdout",
     "output_type": "stream",
     "text": [
      "6,600원 입금 되었습니다.\n"
     ]
    }
   ],
   "source": [
    "account.deposit(6600)"
   ]
  },
  {
   "cell_type": "code",
   "execution_count": 23,
   "metadata": {
    "colab": {
     "base_uri": "https://localhost:8080/"
    },
    "id": "Yd6jpESt_2bb",
    "outputId": "5ea86399-5fa5-43fd-dc05-eee5d5b26dcd"
   },
   "outputs": [
    {
     "name": "stdout",
     "output_type": "stream",
     "text": [
      "1,600원 입금 되었습니다.\n"
     ]
    }
   ],
   "source": [
    "account.deposit(1600)"
   ]
  },
  {
   "cell_type": "code",
   "execution_count": 24,
   "metadata": {
    "colab": {
     "base_uri": "https://localhost:8080/"
    },
    "id": "Nj_9H0M3_4CQ",
    "outputId": "e8f16b22-4796-4f64-96f3-edafafc6b24b"
   },
   "outputs": [
    {
     "name": "stdout",
     "output_type": "stream",
     "text": [
      "66,000원 입금 되었습니다.\n"
     ]
    }
   ],
   "source": [
    "account.deposit(66000)"
   ]
  },
  {
   "cell_type": "code",
   "execution_count": 25,
   "metadata": {
    "colab": {
     "base_uri": "https://localhost:8080/"
    },
    "id": "mUtNQ958_5cf",
    "outputId": "be111898-864a-4751-fbd8-9153908502d7"
   },
   "outputs": [
    {
     "name": "stdout",
     "output_type": "stream",
     "text": [
      "600원 입금 되었습니다.\n"
     ]
    }
   ],
   "source": [
    "account.deposit(600)"
   ]
  },
  {
   "cell_type": "code",
   "execution_count": 26,
   "metadata": {
    "colab": {
     "base_uri": "https://localhost:8080/"
    },
    "id": "oAFiHB0t_7Hp",
    "outputId": "314c11c0-c9ce-4aff-a550-c2e6061cc39a"
   },
   "outputs": [
    {
     "name": "stdout",
     "output_type": "stream",
     "text": [
      "126,600원 입금 되었습니다.\n",
      "2,058.0원 이자가 입금되었습니다.\n"
     ]
    }
   ],
   "source": [
    "account.deposit(126600)"
   ]
  },
  {
   "cell_type": "code",
   "execution_count": 27,
   "metadata": {
    "colab": {
     "base_uri": "https://localhost:8080/"
    },
    "id": "S16e8zn6AbRn",
    "outputId": "ab60ba5b-e811-4c3d-860d-5bb13f924328"
   },
   "outputs": [
    {
     "name": "stdout",
     "output_type": "stream",
     "text": [
      "1원 이상만 입금이 가능합니다.\n"
     ]
    }
   ],
   "source": [
    "account.deposit(-1)"
   ]
  },
  {
   "cell_type": "code",
   "execution_count": 28,
   "metadata": {
    "colab": {
     "base_uri": "https://localhost:8080/"
    },
    "id": "fBWhlbXZ9or0",
    "outputId": "0e034a69-c72f-421f-e04a-5a3e5f7fbca1"
   },
   "outputs": [
    {
     "name": "stdout",
     "output_type": "stream",
     "text": [
      "은행이름: SC은행, 예금주: 이영우, 계좌번호: 295-46-293732, 잔고: 207,858.0원\n"
     ]
    }
   ],
   "source": [
    "account.display_info()"
   ]
  },
  {
   "cell_type": "code",
   "execution_count": 29,
   "metadata": {
    "colab": {
     "base_uri": "https://localhost:8080/"
    },
    "id": "iijZqdCc_Kji",
    "outputId": "20522e84-e947-499d-c04d-c12a11a1b1b8"
   },
   "outputs": [
    {
     "name": "stdout",
     "output_type": "stream",
     "text": [
      "6600원 출금 되었습니다.\n"
     ]
    }
   ],
   "source": [
    "account.withraw(6600)"
   ]
  },
  {
   "cell_type": "code",
   "execution_count": 30,
   "metadata": {
    "colab": {
     "base_uri": "https://localhost:8080/"
    },
    "id": "vFqKiy_2_PqZ",
    "outputId": "84ebed6f-70e1-4b27-d1c6-9156158dc3ea"
   },
   "outputs": [
    {
     "name": "stdout",
     "output_type": "stream",
     "text": [
      "은행이름: SC은행, 예금주: 이영우, 계좌번호: 295-46-293732, 잔고: 201,258.0원\n"
     ]
    }
   ],
   "source": [
    "account.display_info()"
   ]
  },
  {
   "cell_type": "code",
   "execution_count": 31,
   "metadata": {
    "colab": {
     "base_uri": "https://localhost:8080/"
    },
    "id": "uwHtI7wU_Rp7",
    "outputId": "066ab555-029a-44b0-a7b1-a9302f43eebd"
   },
   "outputs": [
    {
     "name": "stdout",
     "output_type": "stream",
     "text": [
      "입금시간: 2024-01-08 05:14:12, 입금액:6,600원\n",
      "입금시간: 2024-01-08 05:14:12, 입금액:1,600원\n",
      "입금시간: 2024-01-08 05:14:13, 입금액:66,000원\n",
      "입금시간: 2024-01-08 05:14:13, 입금액:600원\n",
      "입금시간: 2024-01-08 05:14:13, 입금액:126,600원\n"
     ]
    }
   ],
   "source": [
    "account.deposit_history()"
   ]
  },
  {
   "cell_type": "code",
   "execution_count": 32,
   "metadata": {
    "colab": {
     "base_uri": "https://localhost:8080/"
    },
    "id": "Ub2afmJy_V7m",
    "outputId": "9a4d77c6-3bae-4417-ea09-7baa10df1356"
   },
   "outputs": [
    {
     "name": "stdout",
     "output_type": "stream",
     "text": [
      "출금시간: 2024-01-08 05:14:14, 출금액:6,600원\n"
     ]
    }
   ],
   "source": [
    "account.withdraw_history()"
   ]
  },
  {
   "cell_type": "code",
   "execution_count": 33,
   "metadata": {
    "colab": {
     "base_uri": "https://localhost:8080/"
    },
    "id": "2MjnEqkUE3t4",
    "outputId": "bce68c63-edc0-4022-d6e0-a8e600a9a5f7"
   },
   "outputs": [
    {
     "name": "stdout",
     "output_type": "stream",
     "text": [
      "전체내역:\n",
      "입금시간: 2024-01-08 05:14:12, 입금액:6,600원\n",
      "입금시간: 2024-01-08 05:14:12, 입금액:1,600원\n",
      "입금시간: 2024-01-08 05:14:13, 입금액:66,000원\n",
      "입금시간: 2024-01-08 05:14:13, 입금액:600원\n",
      "입금시간: 2024-01-08 05:14:13, 입금액:126,600원\n",
      "출금시간: 2024-01-08 05:14:14, 출금액:6,600원\n"
     ]
    }
   ],
   "source": [
    "account.all_history()"
   ]
  },
  {
   "cell_type": "markdown",
   "metadata": {
    "id": "2JAg6Dsefvvy"
   },
   "source": [
    "## 회고"
   ]
  },
  {
   "cell_type": "markdown",
   "metadata": {
    "id": "JhFgcBn8fx2e"
   },
   "source": [
    "\n",
    "- class 에 대해서 이전보다 잘 알게 되었습니다.\n",
    "- def 사용법을 좀더 자세히 익히게 되었습니다.\n",
    "- 처음으로 class를 사용하여 작성하는거라 시간이 오래걸려서 다 완수를 못해서 아쉬웠습니다."
   ]
  },
  {
   "cell_type": "code",
   "execution_count": null,
   "metadata": {
    "id": "n522UYsxGSlB"
   },
   "outputs": [],
   "source": []
  }
 ],
 "metadata": {
  "colab": {
   "provenance": []
  },
  "kernelspec": {
   "display_name": "Python 3 (ipykernel)",
   "language": "python",
   "name": "python3"
  },
  "language_info": {
   "codemirror_mode": {
    "name": "ipython",
    "version": 3
   },
   "file_extension": ".py",
   "mimetype": "text/x-python",
   "name": "python",
   "nbconvert_exporter": "python",
   "pygments_lexer": "ipython3",
   "version": "3.9.7"
  }
 },
 "nbformat": 4,
 "nbformat_minor": 1
}
